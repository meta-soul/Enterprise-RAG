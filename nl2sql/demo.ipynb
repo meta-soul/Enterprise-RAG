{
 "cells": [
  {
   "cell_type": "code",
   "id": "initial_id",
   "metadata": {
    "collapsed": true,
    "ExecuteTime": {
     "end_time": "2024-08-28T10:14:36.430048Z",
     "start_time": "2024-08-28T10:14:32.782668Z"
    }
   },
   "source": [
    "from nl2sql.database.mysql_connector import MySQLConnector\n",
    "from core.vector_database.faiss_wrapper import FaissWrapper\n",
    "db_user = \"root\"\n",
    "db_password = \"\"\n",
    "db_host = \"localhost\"\n",
    "db_name = \"classicmodels\"\n",
    "\n",
    "\n",
    "db = MySQLConnector.from_uri_db(\n",
    "    host=db_host,\n",
    "    user=db_user,\n",
    "    password=db_password,\n",
    "    db_name=db_name,\n",
    ")\n",
    "db_summary = db.get_db_summary()\n",
    "faiss_wrapper = FaissWrapper(text_chunks=db_summary)\n",
    "res = faiss_wrapper.search_for_chunks(\"give me details of customer and their order count\", top_k=3)\n",
    "print(res)"
   ],
   "outputs": [
    {
     "name": "stdout",
     "output_type": "stream",
     "text": [
      "['orders(orderNumber, orderDate, requiredDate, shippedDate, status, comments, customerNumber), and index keys: customerNumber(`customerNumber`) ', 'orderdetails(orderNumber, productCode, quantityOrdered, priceEach, orderLineNumber), and index keys: productCode(`productCode`) ', 'customers(customerNumber, customerName, contactLastName, contactFirstName, phone, addressLine1, addressLine2, city, state, postalCode, country, salesRepEmployeeNumber, creditLimit), and index keys: salesRepEmployeeNumber(`salesRepEmployeeNumber`) ']\n"
     ]
    }
   ],
   "execution_count": 9
  },
  {
   "metadata": {},
   "cell_type": "markdown",
   "source": "#### GET SQL Query",
   "id": "af124cae4b13b60"
  },
  {
   "metadata": {
    "ExecuteTime": {
     "end_time": "2024-08-28T10:14:47.490718Z",
     "start_time": "2024-08-28T10:14:37.498571Z"
    }
   },
   "cell_type": "code",
   "source": [
    "from constants.type import GenerateSQLResponse\n",
    "from constants.prompts import GENERATE_SQL_PROMPTS\n",
    "from model.llm import DMetaLLM\n",
    "\n",
    "client = DMetaLLM()\n",
    "query = \"what is price of `1968 Ford Mustang`\"\n",
    "res = client.get_structured_response(\n",
    "    GENERATE_SQL_PROMPTS.format(table_info=db_summary, input=query),\n",
    "    response_format=GenerateSQLResponse,\n",
    ")\n",
    "print(res[\"sql_query\"])"
   ],
   "id": "c313d4bcc37b6c4c",
   "outputs": [
    {
     "name": "stdout",
     "output_type": "stream",
     "text": [
      "SELECT `productCode`, `productName`, `buyPrice` FROM `products` WHERE `productName` = '1968 Ford Mustang' LIMIT 5\n"
     ]
    }
   ],
   "execution_count": 10
  },
  {
   "metadata": {},
   "cell_type": "markdown",
   "source": "#### Execute SQL Query",
   "id": "ad6d6dc1287e7cd5"
  },
  {
   "metadata": {
    "ExecuteTime": {
     "end_time": "2024-08-28T07:26:16.437042Z",
     "start_time": "2024-08-28T07:26:16.430014Z"
    }
   },
   "cell_type": "code",
   "source": [
    "sql_res =  db.run_no_throw(res[\"sql_query\"])\n",
    "print(sql_res)"
   ],
   "id": "96019b6ad5d49d41",
   "outputs": [
    {
     "name": "stdout",
     "output_type": "stream",
     "text": [
      "[('S12_1099', '1968 Ford Mustang', Decimal('95.34'))]\n"
     ]
    }
   ],
   "execution_count": 3
  },
  {
   "metadata": {},
   "cell_type": "markdown",
   "source": "#### Rephrasing SQL query answer",
   "id": "78d9525c4204c0a"
  },
  {
   "metadata": {
    "ExecuteTime": {
     "end_time": "2024-08-28T07:27:07.133441Z",
     "start_time": "2024-08-28T07:27:05.308205Z"
    }
   },
   "cell_type": "code",
   "source": [
    "from constants.prompts import SQL_QUERY_ANSWER_PROMPTS\n",
    "\n",
    "res = client.get_response(query=SQL_QUERY_ANSWER_PROMPTS.format(question=query, query=res[\"sql_query\"], result=sql_res))\n",
    "print(res)"
   ],
   "id": "ac90fc8bbf0499d5",
   "outputs": [
    {
     "name": "stdout",
     "output_type": "stream",
     "text": [
      "The price of the `1968 Ford Mustang` is $95.34.\n"
     ]
    }
   ],
   "execution_count": 6
  },
  {
   "metadata": {},
   "cell_type": "code",
   "outputs": [],
   "execution_count": null,
   "source": "",
   "id": "88d2cbd03f15dd52"
  }
 ],
 "metadata": {
  "kernelspec": {
   "display_name": "Python 3",
   "language": "python",
   "name": "python3"
  },
  "language_info": {
   "codemirror_mode": {
    "name": "ipython",
    "version": 2
   },
   "file_extension": ".py",
   "mimetype": "text/x-python",
   "name": "python",
   "nbconvert_exporter": "python",
   "pygments_lexer": "ipython2",
   "version": "2.7.6"
  }
 },
 "nbformat": 4,
 "nbformat_minor": 5
}
