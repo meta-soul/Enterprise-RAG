{
 "cells": [
  {
   "cell_type": "code",
   "id": "initial_id",
   "metadata": {
    "collapsed": true,
    "ExecuteTime": {
     "end_time": "2024-08-28T03:15:17.842534Z",
     "start_time": "2024-08-28T03:15:13.347384Z"
    }
   },
   "source": [
    "from langchain_openai import OpenAIEmbeddings\n",
    "from langchain_postgres import PGVector\n",
    "from langchain_postgres.vectorstores import PGVector\n",
    "\n",
    "\n",
    "embeddings = OpenAIEmbeddings(model=\"text-embedding-3-large\")\n",
    "\n",
    "# See docker command above to launch a postgres instance with pgvector enabled.\n",
    "connection = \"postgresql+psycopg://liangzhu:@localhost:5432/nl2sql\"  # Uses psycopg3!\n",
    "collection_name = \"my_docs\"\n",
    "\n",
    "\n",
    "vector_store = PGVector(\n",
    "    embeddings=embeddings,\n",
    "    collection_name=collection_name,\n",
    "    connection=connection,\n",
    "    use_jsonb=True,\n",
    ")"
   ],
   "outputs": [
    {
     "ename": "ModuleNotFoundError",
     "evalue": "No module named 'pgvector.sqlalchemy'; 'pgvector' is not a package",
     "output_type": "error",
     "traceback": [
      "\u001B[0;31m---------------------------------------------------------------------------\u001B[0m",
      "\u001B[0;31mModuleNotFoundError\u001B[0m                       Traceback (most recent call last)",
      "Cell \u001B[0;32mIn[1], line 13\u001B[0m\n\u001B[1;32m      9\u001B[0m connection \u001B[38;5;241m=\u001B[39m \u001B[38;5;124m\"\u001B[39m\u001B[38;5;124mpostgresql+psycopg://liangzhu:@localhost:5432/nl2sql\u001B[39m\u001B[38;5;124m\"\u001B[39m  \u001B[38;5;66;03m# Uses psycopg3!\u001B[39;00m\n\u001B[1;32m     10\u001B[0m collection_name \u001B[38;5;241m=\u001B[39m \u001B[38;5;124m\"\u001B[39m\u001B[38;5;124mmy_docs\u001B[39m\u001B[38;5;124m\"\u001B[39m\n\u001B[0;32m---> 13\u001B[0m vector_store \u001B[38;5;241m=\u001B[39m PGVector(\n\u001B[1;32m     14\u001B[0m     embeddings\u001B[38;5;241m=\u001B[39membeddings,\n\u001B[1;32m     15\u001B[0m     collection_name\u001B[38;5;241m=\u001B[39mcollection_name,\n\u001B[1;32m     16\u001B[0m     connection\u001B[38;5;241m=\u001B[39mconnection,\n\u001B[1;32m     17\u001B[0m     use_jsonb\u001B[38;5;241m=\u001B[39m\u001B[38;5;28;01mTrue\u001B[39;00m,\n\u001B[1;32m     18\u001B[0m )\n",
      "File \u001B[0;32m~/anaconda3/envs/dmeta/lib/python3.11/site-packages/langchain_postgres/vectorstores.py:431\u001B[0m, in \u001B[0;36mPGVector.__init__\u001B[0;34m(self, embeddings, connection, embedding_length, collection_name, collection_metadata, distance_strategy, pre_delete_collection, logger, relevance_score_fn, engine_args, use_jsonb, create_extension, async_mode)\u001B[0m\n\u001B[1;32m    429\u001B[0m     \u001B[38;5;28;01mraise\u001B[39;00m \u001B[38;5;167;01mNotImplementedError\u001B[39;00m(\u001B[38;5;124m\"\u001B[39m\u001B[38;5;124muse_jsonb=False is no longer supported.\u001B[39m\u001B[38;5;124m\"\u001B[39m)\n\u001B[1;32m    430\u001B[0m \u001B[38;5;28;01mif\u001B[39;00m \u001B[38;5;129;01mnot\u001B[39;00m \u001B[38;5;28mself\u001B[39m\u001B[38;5;241m.\u001B[39masync_mode:\n\u001B[0;32m--> 431\u001B[0m     \u001B[38;5;28mself\u001B[39m\u001B[38;5;241m.\u001B[39m__post_init__()\n",
      "File \u001B[0;32m~/anaconda3/envs/dmeta/lib/python3.11/site-packages/langchain_postgres/vectorstores.py:440\u001B[0m, in \u001B[0;36mPGVector.__post_init__\u001B[0;34m(self)\u001B[0m\n\u001B[1;32m    437\u001B[0m \u001B[38;5;28;01mif\u001B[39;00m \u001B[38;5;28mself\u001B[39m\u001B[38;5;241m.\u001B[39mcreate_extension:\n\u001B[1;32m    438\u001B[0m     \u001B[38;5;28mself\u001B[39m\u001B[38;5;241m.\u001B[39mcreate_vector_extension()\n\u001B[0;32m--> 440\u001B[0m EmbeddingStore, CollectionStore \u001B[38;5;241m=\u001B[39m _get_embedding_collection_store(\n\u001B[1;32m    441\u001B[0m     \u001B[38;5;28mself\u001B[39m\u001B[38;5;241m.\u001B[39m_embedding_length\n\u001B[1;32m    442\u001B[0m )\n\u001B[1;32m    443\u001B[0m \u001B[38;5;28mself\u001B[39m\u001B[38;5;241m.\u001B[39mCollectionStore \u001B[38;5;241m=\u001B[39m CollectionStore\n\u001B[1;32m    444\u001B[0m \u001B[38;5;28mself\u001B[39m\u001B[38;5;241m.\u001B[39mEmbeddingStore \u001B[38;5;241m=\u001B[39m EmbeddingStore\n",
      "File \u001B[0;32m~/anaconda3/envs/dmeta/lib/python3.11/site-packages/langchain_postgres/vectorstores.py:106\u001B[0m, in \u001B[0;36m_get_embedding_collection_store\u001B[0;34m(vector_dimension)\u001B[0m\n\u001B[1;32m    103\u001B[0m \u001B[38;5;28;01mif\u001B[39;00m _classes \u001B[38;5;129;01mis\u001B[39;00m \u001B[38;5;129;01mnot\u001B[39;00m \u001B[38;5;28;01mNone\u001B[39;00m:\n\u001B[1;32m    104\u001B[0m     \u001B[38;5;28;01mreturn\u001B[39;00m _classes\n\u001B[0;32m--> 106\u001B[0m \u001B[38;5;28;01mfrom\u001B[39;00m \u001B[38;5;21;01mpgvector\u001B[39;00m\u001B[38;5;21;01m.\u001B[39;00m\u001B[38;5;21;01msqlalchemy\u001B[39;00m \u001B[38;5;28;01mimport\u001B[39;00m Vector  \u001B[38;5;66;03m# type: ignore\u001B[39;00m\n\u001B[1;32m    108\u001B[0m \u001B[38;5;28;01mclass\u001B[39;00m \u001B[38;5;21;01mCollectionStore\u001B[39;00m(Base):\n\u001B[1;32m    109\u001B[0m \u001B[38;5;250m    \u001B[39m\u001B[38;5;124;03m\"\"\"Collection store.\"\"\"\u001B[39;00m\n",
      "File \u001B[0;32m~/Documents/intern/shuyuan/dev/rag-demo-v1/nl2sql/database/pgvector.py:13\u001B[0m\n\u001B[1;32m      9\u001B[0m connection \u001B[38;5;241m=\u001B[39m \u001B[38;5;124m\"\u001B[39m\u001B[38;5;124mpostgresql+psycopg://liangzhu:@localhost:5432/nl2sql\u001B[39m\u001B[38;5;124m\"\u001B[39m  \u001B[38;5;66;03m# Uses psycopg3!\u001B[39;00m\n\u001B[1;32m     10\u001B[0m collection_name \u001B[38;5;241m=\u001B[39m \u001B[38;5;124m\"\u001B[39m\u001B[38;5;124mmy_docs\u001B[39m\u001B[38;5;124m\"\u001B[39m\n\u001B[0;32m---> 13\u001B[0m vector_store \u001B[38;5;241m=\u001B[39m PGVector(\n\u001B[1;32m     14\u001B[0m     embeddings\u001B[38;5;241m=\u001B[39membeddings,\n\u001B[1;32m     15\u001B[0m     collection_name\u001B[38;5;241m=\u001B[39mcollection_name,\n\u001B[1;32m     16\u001B[0m     connection\u001B[38;5;241m=\u001B[39mconnection,\n\u001B[1;32m     17\u001B[0m     use_jsonb\u001B[38;5;241m=\u001B[39m\u001B[38;5;28;01mTrue\u001B[39;00m,\n\u001B[1;32m     18\u001B[0m )\n",
      "File \u001B[0;32m~/anaconda3/envs/dmeta/lib/python3.11/site-packages/langchain_postgres/vectorstores.py:431\u001B[0m, in \u001B[0;36mPGVector.__init__\u001B[0;34m(self, embeddings, connection, embedding_length, collection_name, collection_metadata, distance_strategy, pre_delete_collection, logger, relevance_score_fn, engine_args, use_jsonb, create_extension, async_mode)\u001B[0m\n\u001B[1;32m    429\u001B[0m     \u001B[38;5;28;01mraise\u001B[39;00m \u001B[38;5;167;01mNotImplementedError\u001B[39;00m(\u001B[38;5;124m\"\u001B[39m\u001B[38;5;124muse_jsonb=False is no longer supported.\u001B[39m\u001B[38;5;124m\"\u001B[39m)\n\u001B[1;32m    430\u001B[0m \u001B[38;5;28;01mif\u001B[39;00m \u001B[38;5;129;01mnot\u001B[39;00m \u001B[38;5;28mself\u001B[39m\u001B[38;5;241m.\u001B[39masync_mode:\n\u001B[0;32m--> 431\u001B[0m     \u001B[38;5;28mself\u001B[39m\u001B[38;5;241m.\u001B[39m__post_init__()\n",
      "File \u001B[0;32m~/anaconda3/envs/dmeta/lib/python3.11/site-packages/langchain_postgres/vectorstores.py:440\u001B[0m, in \u001B[0;36mPGVector.__post_init__\u001B[0;34m(self)\u001B[0m\n\u001B[1;32m    437\u001B[0m \u001B[38;5;28;01mif\u001B[39;00m \u001B[38;5;28mself\u001B[39m\u001B[38;5;241m.\u001B[39mcreate_extension:\n\u001B[1;32m    438\u001B[0m     \u001B[38;5;28mself\u001B[39m\u001B[38;5;241m.\u001B[39mcreate_vector_extension()\n\u001B[0;32m--> 440\u001B[0m EmbeddingStore, CollectionStore \u001B[38;5;241m=\u001B[39m _get_embedding_collection_store(\n\u001B[1;32m    441\u001B[0m     \u001B[38;5;28mself\u001B[39m\u001B[38;5;241m.\u001B[39m_embedding_length\n\u001B[1;32m    442\u001B[0m )\n\u001B[1;32m    443\u001B[0m \u001B[38;5;28mself\u001B[39m\u001B[38;5;241m.\u001B[39mCollectionStore \u001B[38;5;241m=\u001B[39m CollectionStore\n\u001B[1;32m    444\u001B[0m \u001B[38;5;28mself\u001B[39m\u001B[38;5;241m.\u001B[39mEmbeddingStore \u001B[38;5;241m=\u001B[39m EmbeddingStore\n",
      "File \u001B[0;32m~/anaconda3/envs/dmeta/lib/python3.11/site-packages/langchain_postgres/vectorstores.py:106\u001B[0m, in \u001B[0;36m_get_embedding_collection_store\u001B[0;34m(vector_dimension)\u001B[0m\n\u001B[1;32m    103\u001B[0m \u001B[38;5;28;01mif\u001B[39;00m _classes \u001B[38;5;129;01mis\u001B[39;00m \u001B[38;5;129;01mnot\u001B[39;00m \u001B[38;5;28;01mNone\u001B[39;00m:\n\u001B[1;32m    104\u001B[0m     \u001B[38;5;28;01mreturn\u001B[39;00m _classes\n\u001B[0;32m--> 106\u001B[0m \u001B[38;5;28;01mfrom\u001B[39;00m \u001B[38;5;21;01mpgvector\u001B[39;00m\u001B[38;5;21;01m.\u001B[39;00m\u001B[38;5;21;01msqlalchemy\u001B[39;00m \u001B[38;5;28;01mimport\u001B[39;00m Vector  \u001B[38;5;66;03m# type: ignore\u001B[39;00m\n\u001B[1;32m    108\u001B[0m \u001B[38;5;28;01mclass\u001B[39;00m \u001B[38;5;21;01mCollectionStore\u001B[39;00m(Base):\n\u001B[1;32m    109\u001B[0m \u001B[38;5;250m    \u001B[39m\u001B[38;5;124;03m\"\"\"Collection store.\"\"\"\u001B[39;00m\n",
      "\u001B[0;31mModuleNotFoundError\u001B[0m: No module named 'pgvector.sqlalchemy'; 'pgvector' is not a package"
     ]
    }
   ],
   "execution_count": 1
  },
  {
   "metadata": {},
   "cell_type": "code",
   "outputs": [],
   "execution_count": null,
   "source": "",
   "id": "aa792f7e51f71232"
  }
 ],
 "metadata": {
  "kernelspec": {
   "display_name": "Python 3",
   "language": "python",
   "name": "python3"
  },
  "language_info": {
   "codemirror_mode": {
    "name": "ipython",
    "version": 2
   },
   "file_extension": ".py",
   "mimetype": "text/x-python",
   "name": "python",
   "nbconvert_exporter": "python",
   "pygments_lexer": "ipython2",
   "version": "2.7.6"
  }
 },
 "nbformat": 4,
 "nbformat_minor": 5
}
