{
 "cells": [
  {
   "cell_type": "code",
   "id": "initial_id",
   "metadata": {
    "collapsed": true,
    "ExecuteTime": {
     "end_time": "2024-08-23T07:55:49.818273Z",
     "start_time": "2024-08-23T07:55:37.513049Z"
    }
   },
   "source": [
    "from model.llm import DMetaLLM\n",
    "from recall.jina_clip_wrapper import JinaClipWrapper\n",
    "from utility.tools import load_images_from_folder\n",
    "\n",
    "texts = ['A pig', 'A red cat', \"A red pig\"]\n",
    "images = load_images_from_folder('../model/image_dataset')\n",
    "query = \"在 RAG 中recall 回 contexts 下一步应该做啥？\"\n",
    "\n",
    "jina_clip_wrapper = JinaClipWrapper(texts, images)\n",
    "contexts = jina_clip_wrapper.search_for_multimodal(query)\n",
    "\n",
    "llm = DMetaLLM()\n",
    "res = llm.get_multimodal_response(query, contexts)\n",
    "print(res)"
   ],
   "outputs": [
    {
     "name": "stderr",
     "output_type": "stream",
     "text": [
      "INFO:root:Shape of rope freq: torch.Size([196, 64])\n"
     ]
    },
    {
     "data": {
      "text/plain": [
       "Encoding:   0%|          | 0/1 [00:00<?, ?it/s]"
      ],
      "application/vnd.jupyter.widget-view+json": {
       "version_major": 2,
       "version_minor": 0,
       "model_id": "581451b4a42c4f7194f098c44de7e052"
      }
     },
     "metadata": {},
     "output_type": "display_data"
    },
    {
     "data": {
      "text/plain": [
       "Encoding:   0%|          | 0/1 [00:00<?, ?it/s]"
      ],
      "application/vnd.jupyter.widget-view+json": {
       "version_major": 2,
       "version_minor": 0,
       "model_id": "dcb9674192b84da9a6ef99ade8ef3c09"
      }
     },
     "metadata": {},
     "output_type": "display_data"
    },
    {
     "data": {
      "text/plain": [
       "Encoding:   0%|          | 0/1 [00:00<?, ?it/s]"
      ],
      "application/vnd.jupyter.widget-view+json": {
       "version_major": 2,
       "version_minor": 0,
       "model_id": "a1cdda988b06468ba8e6b42e322a5217"
      }
     },
     "metadata": {},
     "output_type": "display_data"
    },
    {
     "name": "stderr",
     "output_type": "stream",
     "text": [
      "INFO:recall.jina_clip_wrapper:Most similar texts:['A red pig', 'A pig']\n",
      "INFO:recall.jina_clip_wrapper:Most similar images:['../model/image_dataset/rag-flowchart.jpg']\n"
     ]
    },
    {
     "name": "stdout",
     "output_type": "stream",
     "text": [
      "Text similarity scores:[0.05228342 0.04784118 0.08315554]\n",
      "Image similarity scores:[0.12562789 0.02582827]\n"
     ]
    },
    {
     "name": "stderr",
     "output_type": "stream",
     "text": [
      "INFO:httpx:HTTP Request: POST https://aihubmix.com/v1/chat/completions \"HTTP/1.1 200 OK\"\n"
     ]
    },
    {
     "name": "stdout",
     "output_type": "stream",
     "text": [
      "在 RAG 中，recall 回 contexts 后，下一步应该进行 Rerank。\n"
     ]
    }
   ],
   "execution_count": 2
  },
  {
   "metadata": {},
   "cell_type": "code",
   "outputs": [],
   "execution_count": null,
   "source": "",
   "id": "e116fcae18ff7aaf"
  }
 ],
 "metadata": {
  "kernelspec": {
   "display_name": "Python 3",
   "language": "python",
   "name": "python3"
  },
  "language_info": {
   "codemirror_mode": {
    "name": "ipython",
    "version": 2
   },
   "file_extension": ".py",
   "mimetype": "text/x-python",
   "name": "python",
   "nbconvert_exporter": "python",
   "pygments_lexer": "ipython2",
   "version": "2.7.6"
  }
 },
 "nbformat": 4,
 "nbformat_minor": 5
}
