{
 "cells": [
  {
   "cell_type": "code",
   "id": "initial_id",
   "metadata": {
    "collapsed": true,
    "ExecuteTime": {
     "end_time": "2024-08-23T07:21:14.440898Z",
     "start_time": "2024-08-23T07:20:56.450529Z"
    }
   },
   "source": [
    "from model.llm import DMetaLLM\n",
    "from recall.jina_clip_wrapper import JinaClipWrapper\n",
    "from utility.tools import load_images_from_folder\n",
    "\n",
    "texts = ['A pig', 'A red cat', \"A red pig\"]\n",
    "images = load_images_from_folder('../model/image_dataset')\n",
    "query = \"小猪头发是什么颜色？\"\n",
    "\n",
    "jina_clip_wrapper = JinaClipWrapper(texts, images)\n",
    "contexts = jina_clip_wrapper.search_for_multimodal(query)\n",
    "\n",
    "llm = DMetaLLM()\n",
    "res = llm.get_multimodal_response(query, contexts)\n",
    "print(res)"
   ],
   "outputs": [
    {
     "name": "stderr",
     "output_type": "stream",
     "text": [
      "INFO:root:Shape of rope freq: torch.Size([196, 64])\n"
     ]
    },
    {
     "data": {
      "text/plain": [
       "Encoding:   0%|          | 0/1 [00:00<?, ?it/s]"
      ],
      "application/vnd.jupyter.widget-view+json": {
       "version_major": 2,
       "version_minor": 0,
       "model_id": "1b0fe01b5a604092802ffd8fef62e9a7"
      }
     },
     "metadata": {},
     "output_type": "display_data"
    },
    {
     "data": {
      "text/plain": [
       "Encoding:   0%|          | 0/1 [00:00<?, ?it/s]"
      ],
      "application/vnd.jupyter.widget-view+json": {
       "version_major": 2,
       "version_minor": 0,
       "model_id": "3a40b18e2e9c48fcbc60d83d49074503"
      }
     },
     "metadata": {},
     "output_type": "display_data"
    },
    {
     "data": {
      "text/plain": [
       "Encoding:   0%|          | 0/1 [00:00<?, ?it/s]"
      ],
      "application/vnd.jupyter.widget-view+json": {
       "version_major": 2,
       "version_minor": 0,
       "model_id": "cf31398d7f9e4f30917ace14a0d26ab7"
      }
     },
     "metadata": {},
     "output_type": "display_data"
    },
    {
     "name": "stderr",
     "output_type": "stream",
     "text": [
      "INFO:recall.jina_clip_wrapper:Most similar texts:['A pig', 'A red pig']\n",
      "INFO:recall.jina_clip_wrapper:Most similar images:['../model/image_dataset/avatar.jpg']\n"
     ]
    },
    {
     "name": "stdout",
     "output_type": "stream",
     "text": [
      "Text similarity scores:[0.13251437 0.04313116 0.0975593 ]\n",
      "Image similarity scores:[0.01562404 0.11558494]\n"
     ]
    },
    {
     "name": "stderr",
     "output_type": "stream",
     "text": [
      "INFO:httpx:HTTP Request: POST https://aihubmix.com/v1/chat/completions \"HTTP/1.1 200 OK\"\n"
     ]
    },
    {
     "name": "stdout",
     "output_type": "stream",
     "text": [
      "小猪的头发是彩色的，包含红色、黄色和绿色。\n"
     ]
    }
   ],
   "execution_count": 1
  },
  {
   "metadata": {},
   "cell_type": "code",
   "outputs": [],
   "execution_count": null,
   "source": "",
   "id": "e116fcae18ff7aaf"
  }
 ],
 "metadata": {
  "kernelspec": {
   "display_name": "Python 3",
   "language": "python",
   "name": "python3"
  },
  "language_info": {
   "codemirror_mode": {
    "name": "ipython",
    "version": 2
   },
   "file_extension": ".py",
   "mimetype": "text/x-python",
   "name": "python",
   "nbconvert_exporter": "python",
   "pygments_lexer": "ipython2",
   "version": "2.7.6"
  }
 },
 "nbformat": 4,
 "nbformat_minor": 5
}
